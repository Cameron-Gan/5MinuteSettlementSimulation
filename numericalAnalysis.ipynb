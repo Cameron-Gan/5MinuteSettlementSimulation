{
 "cells": [
  {
   "cell_type": "code",
   "execution_count": 103,
   "metadata": {
    "collapsed": true
   },
   "outputs": [],
   "source": [
    "import pandas as pd\n",
    "import locale\n",
    "from datetime import datetime, timedelta\n",
    "import math\n",
    "import numpy as np\n",
    "from numba import jit\n",
    "\n",
    "locale.setlocale(locale.LC_ALL, 'EN_US')\n",
    "\n",
    "\n",
    "\n",
    "def floor_ft(dt, delta):\n",
    "    return datetime.min + math.floor((dt - datetime.min) / delta) * delta\n",
    "\n",
    "def find_dispatch(price, bid, plant_size, dispatchPrice):\n",
    "    df.loc[(price > bid), dispatchPrice] = plant_size\n",
    "    df.loc[(price <= bid), dispatchPrice] = 0\n",
    "\n",
    "def find_price(price, bid, dispatchPrice):\n",
    "    df.loc[(price > bid), dispatchPrice] = price\n",
    "    df.loc[(price <= bid), dispatchPrice] = 0\n",
    "\n",
    "def profit(dispatch, price, bid, dispatchPrice):\n",
    "    df.loc[(dispatch > 0), dispatchPrice] = price - (bid * dispatch * (5/60))\n",
    "    df.loc[(dispatch <= 0), dispatchPrice] = 0\n",
    "\n",
    "def thirty_min_prices(dic, flooredTimes, col):\n",
    "    df.loc[(dic[flooredTimes] == flooredTimes), col] = dic[flooredTimes]\n",
    "\n",
    "def power_station_model(future_price, rrp, power_station_dispatch, bid, ramp):\n",
    "    for i in range(1, len(rrp)):\n",
    "        if (future_price[i] > bid) or (rrp[i] > 300):\n",
    "            re = power_station_dispatch[i - 1] + ramp\n",
    "            if re > 1: re = 1\n",
    "        else:\n",
    "            re = power_station_dispatch[i - 1]- ramp\n",
    "            if re < 0: re = 0\n",
    "        power_station_dispatch[i] = re\n",
    "    return power_station_dispatch\n",
    "\n",
    "def floor_time(time, col):\n",
    "    dfALL.loc[col]  =floor_ft(time, timedelta(minutes=30))"
   ]
  },
  {
   "cell_type": "code",
   "execution_count": 104,
   "outputs": [],
   "source": [
    "dfALL = pd.read_csv(\"./AEMOData/2019data.csv\")\n",
    "dfALL['SETTLEMENTDATE'] = pd.to_datetime(dfALL['SETTLEMENTDATE'])\n",
    "dfALL['SETTLEMENTDATE'] = dfALL[\"SETTLEMENTDATE\"].apply(pd.Timestamp.to_pydatetime)\n",
    "# floor_time(dfALL['SETTLEMENTDATE'], 'flooredtimes')\n",
    "\n",
    "# dfALL['flooredtimes'] = dfALL['SETTLEMENTDATE'].apply(lambda row: floor_ft(row.to_pydatetime(), timedelta(minutes=30)))\n",
    "dfALL['flooredtimes'] = dfALL['SETTLEMENTDATE'].dt.floor('30T')\n",
    "# state = 'SA1'\n",
    "#\n",
    "# df = dfALL[dfALL['REGIONID'] == state]\n",
    "# thirtymindf = df.resample('30T').mean()\n",
    "# thirtymindf = thirtymindf.reset_index()\n"
   ],
   "metadata": {
    "collapsed": false,
    "pycharm": {
     "name": "#%%\n"
    }
   }
  },
  {
   "cell_type": "code",
   "execution_count": 105,
   "outputs": [
    {
     "name": "stdout",
     "output_type": "stream",
     "text": [
      "State: NSW1\n",
      "Fuel Cost: 300\n",
      "Perfectly responsive plant: 178.0MWh\n",
      "5 Minute Revenue = $10,833.01\n",
      "5 Minute Profic = $6,383.01\n",
      "30 Minute Revenue = $6,227.73\n",
      "30 Minute Profit = $1,777.73\n",
      "Revenue increase: 73.95%\n",
      "Profit increase: 259.05%\n"
     ]
    }
   ],
   "source": [
    "bid = 300\n",
    "plant_size = 1\n",
    "\n",
    "bid = int(input('Pick a bid: '))\n",
    "state = input('Pick a state {NSW1, QLD1, SA1, VIC1}: ')\n",
    "\n",
    "df = dfALL[dfALL['REGIONID'] == state]\n",
    "\n",
    "df = df.set_index('SETTLEMENTDATE')\n",
    "df = df.loc[~df.index.duplicated(keep='first')]\n",
    "df.index = pd.to_datetime(df.index)\n",
    "\n",
    "thirtymindf = df.resample('30T').mean()\n",
    "thirtymindf.index = pd.to_datetime(thirtymindf.index)\n",
    "dic = thirtymindf.to_dict('index')\n",
    "# thirtymindf = thirtymindf.reset_index()\n",
    "df = df.reset_index()\n",
    "\n",
    "\n",
    "df['30minprices'] =  df['flooredtimes'].map(dic)\n",
    "df['30minprices'] = pd.json_normalize(df['30minprices'])\n",
    "# pd.DataFrame(df['30minprices'].tolist())\n",
    "# df['30minprices'] = df['flooredtimes'].apply(lambda time: thirtymindf['RRP'][(thirtymindf['SETTLEMENTDATE'] == time)].values[0])\n",
    "\n",
    "\n",
    "\n",
    "find_dispatch(df['RRP'], bid, plant_size, 'Dispatch')\n",
    "find_price(df['RRP'], bid, '5MinPrice')\n",
    "df['Revenue'] = df['5MinPrice'] * df['Dispatch'] * (5/60)\n",
    "profit(df['Dispatch'], df['Revenue'], bid, 'Profit')\n",
    "\n",
    "fiveminrevenue = df['Revenue'].sum()\n",
    "fiveminprofit = df['Profit'].sum()\n",
    "print('State: '+state)\n",
    "print('Fuel Cost: '+str(bid))\n",
    "print('Perfectly responsive plant: ' + str(df['Dispatch'].sum()) + 'MWh')\n",
    "\n",
    "print('5 Minute Revenue = ' + locale.currency(df['Revenue'].sum(), grouping=True))\n",
    "print('5 Minute Profic = ' + locale.currency(df['Profit'].sum(), grouping=True))\n",
    "\n",
    "df['30minRevenue'] = df['30minprices'] * df['Dispatch'] * (5/60)\n",
    "profit(df['Dispatch'], df['30minRevenue'], bid, '30minProfit')\n",
    "\n",
    "print('30 Minute Revenue = ' + locale.currency(df['30minRevenue'].sum(), grouping=True))\n",
    "print('30 Minute Profit = ' + locale.currency(df['30minProfit'].sum(), grouping=True))\n",
    "\n",
    "thirtyminrevenue = df['30minRevenue'].sum()\n",
    "thirtyminprofit = df['30minProfit'].sum()\n",
    "\n",
    "revenue_increase = (fiveminrevenue / thirtyminrevenue) - 1\n",
    "profit_increase = (fiveminprofit / thirtyminprofit) - 1\n",
    "\n",
    "print(\"Revenue increase: \" +\"{:.2%}\".format(revenue_increase))\n",
    "print(\"Profit increase: \" +\"{:.2%}\".format(profit_increase))\n",
    "\n"
   ],
   "metadata": {
    "collapsed": false,
    "pycharm": {
     "name": "#%%\n"
    }
   }
  },
  {
   "cell_type": "code",
   "execution_count": 106,
   "outputs": [
    {
     "name": "stdout",
     "output_type": "stream",
     "text": [
      "State: SA1\n",
      "Fuel Cost: 150\n",
      "Power Statione with 0.125 ramp: 6195.75MW\n",
      "5 Minute Revenue = $243,463.10\n",
      "5 Minute Profit = $166,016.23\n",
      "30 Minute Revenue = $239,473.64\n",
      "30 Minute Profit = $162,026.76\n",
      "Revenue increase: 1.67%\n",
      "Profit increase: 2.46%\n"
     ]
    }
   ],
   "source": [
    "\n",
    "\n",
    "ramp = 0.125\n",
    "\n",
    "bid = int(input('Pick a bid: '))\n",
    "state = input('Pick a state {NSW1, QLD1, SA1, VIC1}: ')\n",
    "\n",
    "df = dfALL[dfALL['REGIONID'] == state]\n",
    "\n",
    "df = df.set_index('SETTLEMENTDATE')\n",
    "df = df.loc[~df.index.duplicated(keep='first')]\n",
    "df.index = pd.to_datetime(df.index)\n",
    "\n",
    "thirtymindf = df.resample('30T').mean()\n",
    "thirtymindf.index = pd.to_datetime(thirtymindf.index)\n",
    "dic = thirtymindf.to_dict('index')\n",
    "# thirtymindf = thirtymindf.reset_index()\n",
    "df = df.reset_index()\n",
    "\n",
    "\n",
    "df['30minprices'] =  df['flooredtimes'].map(dic)\n",
    "df['30minprices'] = pd.json_normalize(df['30minprices'])\n",
    "\n",
    "df.loc[0, 'power_station_dispatch'] = 0\n",
    "df['futurePrice'] = df['RRP'].shift(-2)\n",
    "\n",
    "psm = power_station_model(df.futurePrice.values.tolist(), df.RRP.values.tolist(), df.power_station_dispatch.values.tolist(), bid, ramp)\n",
    "\n",
    "df['power_station_dispatch'] = pd.Series(psm)\n",
    "\n",
    "# print(\"done\")\n",
    "\n",
    "df['5minRevenuePS'] = df['RRP'] * df['power_station_dispatch'] * (5/60)\n",
    "profit(df['power_station_dispatch'], df['5minRevenuePS'], bid, '5minProfitPS')\n",
    "\n",
    "fiveminrevenuePS = df['5minRevenuePS'].sum()\n",
    "fiveminprofitPS = df['5minProfitPS'].sum()\n",
    "print('State: '+state)\n",
    "print('Fuel Cost: '+str(bid))\n",
    "print('Power Statione with '+str(ramp)+' ramp: '+str(df['power_station_dispatch'].sum())+'MW')\n",
    "\n",
    "print('5 Minute Revenue = '+locale.currency(df['5minRevenuePS'].sum(), grouping=True))\n",
    "print('5 Minute Profit = '+locale.currency(df['5minProfitPS'].sum(), grouping=True))\n",
    "\n",
    "df['30minRevenuePS'] = df['30minprices'] * df['power_station_dispatch'] * (5/60)\n",
    "profit(df['power_station_dispatch'], df['30minRevenuePS'], bid, '30minProfitPS')\n",
    "\n",
    "print('30 Minute Revenue = '+locale.currency(df['30minRevenuePS'].sum(), grouping=True))\n",
    "print('30 Minute Profit = '+locale.currency(df['30minProfitPS'].sum(), grouping=True))\n",
    "\n",
    "thirtyminrevenuePS = df['30minRevenuePS'].sum()\n",
    "thirtyminprofitPS = df['30minProfitPS'].sum()\n",
    "\n",
    "revenue_increasePS = (fiveminrevenuePS / thirtyminrevenuePS) - 1\n",
    "profit_increasePS = (fiveminprofitPS / thirtyminprofitPS) - 1\n",
    "\n",
    "print(\"Revenue increase: \" +\"{:.2%}\".format(revenue_increasePS))\n",
    "print(\"Profit increase: \" +\"{:.2%}\".format(profit_increasePS))"
   ],
   "metadata": {
    "collapsed": false,
    "pycharm": {
     "name": "#%%\n"
    }
   }
  }
 ],
 "metadata": {
  "kernelspec": {
   "name": "pycharm-a5d4f7da",
   "language": "python",
   "display_name": "PyCharm (Elec9715Ass2)"
  },
  "language_info": {
   "codemirror_mode": {
    "name": "ipython",
    "version": 2
   },
   "file_extension": ".py",
   "mimetype": "text/x-python",
   "name": "python",
   "nbconvert_exporter": "python",
   "pygments_lexer": "ipython2",
   "version": "2.7.6"
  }
 },
 "nbformat": 4,
 "nbformat_minor": 0
}